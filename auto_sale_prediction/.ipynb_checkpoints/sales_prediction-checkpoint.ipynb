{
 "cells": [
  {
   "cell_type": "code",
   "execution_count": 1,
   "metadata": {
    "ExecuteTime": {
     "end_time": "2020-05-28T04:02:33.684516Z",
     "start_time": "2020-05-28T04:02:24.058561Z"
    }
   },
   "outputs": [],
   "source": [
    "import numpy as np\n",
    "import pandas as pd\n",
    "from sklearn.preprocessing import LabelEncoder\n",
    "from sklearn.preprocessing import MaxAbsScaler\n",
    "import matplotlib.pyplot as plt\n",
    "import seaborn as sns"
   ]
  },
  {
   "cell_type": "code",
   "execution_count": 39,
   "metadata": {
    "ExecuteTime": {
     "end_time": "2020-05-28T04:38:40.487921Z",
     "start_time": "2020-05-28T04:38:40.462845Z"
    }
   },
   "outputs": [],
   "source": [
    "pd.set_option('display.max_columns', 50)\n",
    "pd.set_option('display.max_rows', 50)"
   ]
  },
  {
   "cell_type": "markdown",
   "metadata": {},
   "source": [
    "### Data Import"
   ]
  },
  {
   "cell_type": "code",
   "execution_count": 2,
   "metadata": {
    "ExecuteTime": {
     "end_time": "2020-05-28T04:02:37.350253Z",
     "start_time": "2020-05-28T04:02:37.152459Z"
    }
   },
   "outputs": [
    {
     "name": "stdout",
     "output_type": "stream",
     "text": [
      "(20157, 32) (140, 3)\n"
     ]
    },
    {
     "name": "stderr",
     "output_type": "stream",
     "text": [
      "/Library/Frameworks/Python.framework/Versions/3.6/lib/python3.6/site-packages/IPython/core/interactiveshell.py:2785: DtypeWarning: Columns (15,20) have mixed types. Specify dtype option on import or set low_memory=False.\n",
      "  interactivity=interactivity, compiler=compiler, result=result)\n"
     ]
    }
   ],
   "source": [
    "train = pd.read_csv(\"./data/train_20171226.csv\")\n",
    "test = pd.read_csv(\"./data/yancheng_testB_20180224.csv\")\n",
    "print(train.shape,test.shape)"
   ]
  },
  {
   "cell_type": "code",
   "execution_count": 3,
   "metadata": {
    "ExecuteTime": {
     "end_time": "2020-05-28T04:02:40.903150Z",
     "start_time": "2020-05-28T04:02:40.895945Z"
    }
   },
   "outputs": [
    {
     "data": {
      "text/plain": [
       "(20157, 32)"
      ]
     },
     "execution_count": 3,
     "metadata": {},
     "output_type": "execute_result"
    }
   ],
   "source": [
    "train.shape"
   ]
  },
  {
   "cell_type": "code",
   "execution_count": 4,
   "metadata": {
    "ExecuteTime": {
     "end_time": "2020-05-28T04:02:44.128862Z",
     "start_time": "2020-05-28T04:02:44.123820Z"
    }
   },
   "outputs": [
    {
     "data": {
      "text/plain": [
       "(140, 3)"
      ]
     },
     "execution_count": 4,
     "metadata": {},
     "output_type": "execute_result"
    }
   ],
   "source": [
    "test.shape"
   ]
  },
  {
   "cell_type": "code",
   "execution_count": 8,
   "metadata": {
    "ExecuteTime": {
     "end_time": "2020-05-28T04:03:09.661760Z",
     "start_time": "2020-05-28T04:03:09.633760Z"
    }
   },
   "outputs": [
    {
     "data": {
      "text/html": [
       "<div>\n",
       "<style scoped>\n",
       "    .dataframe tbody tr th:only-of-type {\n",
       "        vertical-align: middle;\n",
       "    }\n",
       "\n",
       "    .dataframe tbody tr th {\n",
       "        vertical-align: top;\n",
       "    }\n",
       "\n",
       "    .dataframe thead th {\n",
       "        text-align: right;\n",
       "    }\n",
       "</style>\n",
       "<table border=\"1\" class=\"dataframe\">\n",
       "  <thead>\n",
       "    <tr style=\"text-align: right;\">\n",
       "      <th></th>\n",
       "      <th>sale_date</th>\n",
       "      <th>class_id</th>\n",
       "      <th>sale_quantity</th>\n",
       "      <th>brand_id</th>\n",
       "      <th>compartment</th>\n",
       "      <th>type_id</th>\n",
       "      <th>level_id</th>\n",
       "      <th>department_id</th>\n",
       "      <th>TR</th>\n",
       "      <th>gearbox_type</th>\n",
       "      <th>...</th>\n",
       "      <th>engine_torque</th>\n",
       "      <th>car_length</th>\n",
       "      <th>car_width</th>\n",
       "      <th>car_height</th>\n",
       "      <th>total_quality</th>\n",
       "      <th>equipment_quality</th>\n",
       "      <th>rated_passenger</th>\n",
       "      <th>wheelbase</th>\n",
       "      <th>front_track</th>\n",
       "      <th>rear_track</th>\n",
       "    </tr>\n",
       "  </thead>\n",
       "  <tbody>\n",
       "    <tr>\n",
       "      <th>0</th>\n",
       "      <td>201609</td>\n",
       "      <td>289403</td>\n",
       "      <td>94</td>\n",
       "      <td>12</td>\n",
       "      <td>2</td>\n",
       "      <td>1</td>\n",
       "      <td>1</td>\n",
       "      <td>1</td>\n",
       "      <td>6</td>\n",
       "      <td>MT</td>\n",
       "      <td>...</td>\n",
       "      <td>170</td>\n",
       "      <td>4440</td>\n",
       "      <td>1833</td>\n",
       "      <td>1545</td>\n",
       "      <td>1695</td>\n",
       "      <td>1320</td>\n",
       "      <td>5</td>\n",
       "      <td>2700</td>\n",
       "      <td>1556</td>\n",
       "      <td>1562</td>\n",
       "    </tr>\n",
       "    <tr>\n",
       "      <th>1</th>\n",
       "      <td>201609</td>\n",
       "      <td>745137</td>\n",
       "      <td>435</td>\n",
       "      <td>637</td>\n",
       "      <td>3</td>\n",
       "      <td>2</td>\n",
       "      <td>1</td>\n",
       "      <td>2</td>\n",
       "      <td>6</td>\n",
       "      <td>DCT</td>\n",
       "      <td>...</td>\n",
       "      <td>159</td>\n",
       "      <td>4534</td>\n",
       "      <td>1823</td>\n",
       "      <td>1483</td>\n",
       "      <td>1711</td>\n",
       "      <td>1336</td>\n",
       "      <td>5</td>\n",
       "      <td>2648</td>\n",
       "      <td>1553</td>\n",
       "      <td>1544</td>\n",
       "    </tr>\n",
       "    <tr>\n",
       "      <th>2</th>\n",
       "      <td>201609</td>\n",
       "      <td>714860</td>\n",
       "      <td>180</td>\n",
       "      <td>831</td>\n",
       "      <td>3</td>\n",
       "      <td>2</td>\n",
       "      <td>2</td>\n",
       "      <td>3</td>\n",
       "      <td>6</td>\n",
       "      <td>AT</td>\n",
       "      <td>...</td>\n",
       "      <td>176</td>\n",
       "      <td>4720</td>\n",
       "      <td>1815</td>\n",
       "      <td>1465</td>\n",
       "      <td>1860</td>\n",
       "      <td>1459</td>\n",
       "      <td>5</td>\n",
       "      <td>2770</td>\n",
       "      <td>1579</td>\n",
       "      <td>1589</td>\n",
       "    </tr>\n",
       "    <tr>\n",
       "      <th>3</th>\n",
       "      <td>201609</td>\n",
       "      <td>175962</td>\n",
       "      <td>40</td>\n",
       "      <td>750</td>\n",
       "      <td>3</td>\n",
       "      <td>2</td>\n",
       "      <td>1</td>\n",
       "      <td>4</td>\n",
       "      <td>6</td>\n",
       "      <td>AT</td>\n",
       "      <td>...</td>\n",
       "      <td>155</td>\n",
       "      <td>4475</td>\n",
       "      <td>1706</td>\n",
       "      <td>1469</td>\n",
       "      <td>1625</td>\n",
       "      <td>1145</td>\n",
       "      <td>5</td>\n",
       "      <td>2603</td>\n",
       "      <td>1460</td>\n",
       "      <td>1500</td>\n",
       "    </tr>\n",
       "    <tr>\n",
       "      <th>4</th>\n",
       "      <td>201609</td>\n",
       "      <td>270690</td>\n",
       "      <td>19</td>\n",
       "      <td>98</td>\n",
       "      <td>2</td>\n",
       "      <td>3</td>\n",
       "      <td>3</td>\n",
       "      <td>1</td>\n",
       "      <td>5</td>\n",
       "      <td>MT</td>\n",
       "      <td>...</td>\n",
       "      <td>146.5</td>\n",
       "      <td>4415</td>\n",
       "      <td>1685</td>\n",
       "      <td>1850</td>\n",
       "      <td>1825</td>\n",
       "      <td>1236</td>\n",
       "      <td>5</td>\n",
       "      <td>2720</td>\n",
       "      <td>1420</td>\n",
       "      <td>1440</td>\n",
       "    </tr>\n",
       "  </tbody>\n",
       "</table>\n",
       "<p>5 rows × 32 columns</p>\n",
       "</div>"
      ],
      "text/plain": [
       "   sale_date  class_id  sale_quantity  brand_id  compartment  type_id  \\\n",
       "0     201609    289403             94        12            2        1   \n",
       "1     201609    745137            435       637            3        2   \n",
       "2     201609    714860            180       831            3        2   \n",
       "3     201609    175962             40       750            3        2   \n",
       "4     201609    270690             19        98            2        3   \n",
       "\n",
       "  level_id  department_id TR gearbox_type     ...      engine_torque  \\\n",
       "0        1              1  6           MT     ...                170   \n",
       "1        1              2  6          DCT     ...                159   \n",
       "2        2              3  6           AT     ...                176   \n",
       "3        1              4  6           AT     ...                155   \n",
       "4        3              1  5           MT     ...              146.5   \n",
       "\n",
       "  car_length car_width car_height  total_quality equipment_quality  \\\n",
       "0       4440      1833       1545           1695              1320   \n",
       "1       4534      1823       1483           1711              1336   \n",
       "2       4720      1815       1465           1860              1459   \n",
       "3       4475      1706       1469           1625              1145   \n",
       "4       4415      1685       1850           1825              1236   \n",
       "\n",
       "   rated_passenger  wheelbase  front_track  rear_track  \n",
       "0                5       2700         1556        1562  \n",
       "1                5       2648         1553        1544  \n",
       "2                5       2770         1579        1589  \n",
       "3                5       2603         1460        1500  \n",
       "4                5       2720         1420        1440  \n",
       "\n",
       "[5 rows x 32 columns]"
      ]
     },
     "execution_count": 8,
     "metadata": {},
     "output_type": "execute_result"
    }
   ],
   "source": [
    "train.head()"
   ]
  },
  {
   "cell_type": "code",
   "execution_count": 24,
   "metadata": {
    "ExecuteTime": {
     "end_time": "2020-05-28T04:18:48.446726Z",
     "start_time": "2020-05-28T04:18:48.442582Z"
    }
   },
   "outputs": [
    {
     "name": "stdout",
     "output_type": "stream",
     "text": [
      "['sale_date', 'class_id', 'sale_quantity', 'brand_id', 'compartment', 'type_id', 'level_id', 'department_id', 'TR', 'gearbox_type', 'displacement', 'if_charging', 'price_level', 'price', 'driven_type_id', 'fuel_type_id', 'newenergy_type_id', 'emission_standards_id', 'if_MPV_id', 'if_luxurious_id', 'power', 'cylinder_number', 'engine_torque', 'car_length', 'car_width', 'car_height', 'total_quality', 'equipment_quality', 'rated_passenger', 'wheelbase', 'front_track', 'rear_track', 'sale_month', 'sale_year']\n"
     ]
    }
   ],
   "source": [
    "print(list(train))"
   ]
  },
  {
   "cell_type": "code",
   "execution_count": 25,
   "metadata": {
    "ExecuteTime": {
     "end_time": "2020-05-28T04:18:53.360324Z",
     "start_time": "2020-05-28T04:18:53.338027Z"
    }
   },
   "outputs": [
    {
     "name": "stdout",
     "output_type": "stream",
     "text": [
      "sale_date                0\n",
      "class_id                 0\n",
      "sale_quantity            0\n",
      "brand_id                 0\n",
      "compartment              0\n",
      "type_id                  0\n",
      "level_id                 0\n",
      "department_id            0\n",
      "TR                       0\n",
      "gearbox_type             0\n",
      "displacement             0\n",
      "if_charging              0\n",
      "price_level              0\n",
      "price                    0\n",
      "driven_type_id           0\n",
      "fuel_type_id             0\n",
      "newenergy_type_id        0\n",
      "emission_standards_id    0\n",
      "if_MPV_id                0\n",
      "if_luxurious_id          0\n",
      "power                    0\n",
      "cylinder_number          0\n",
      "engine_torque            0\n",
      "car_length               0\n",
      "car_width                0\n",
      "car_height               0\n",
      "total_quality            0\n",
      "equipment_quality        0\n",
      "rated_passenger          0\n",
      "wheelbase                0\n",
      "front_track              0\n",
      "rear_track               0\n",
      "sale_month               0\n",
      "sale_year                0\n",
      "dtype: int64\n"
     ]
    }
   ],
   "source": [
    "print(train.isna().sum())"
   ]
  },
  {
   "cell_type": "code",
   "execution_count": 26,
   "metadata": {
    "ExecuteTime": {
     "end_time": "2020-05-28T04:19:00.239755Z",
     "start_time": "2020-05-28T04:19:00.235190Z"
    },
    "scrolled": false
   },
   "outputs": [
    {
     "name": "stdout",
     "output_type": "stream",
     "text": [
      "sale_date                  int64\n",
      "class_id                   int64\n",
      "sale_quantity              int64\n",
      "brand_id                   int64\n",
      "compartment                int64\n",
      "type_id                    int64\n",
      "level_id                  object\n",
      "department_id              int64\n",
      "TR                        object\n",
      "gearbox_type              object\n",
      "displacement             float64\n",
      "if_charging               object\n",
      "price_level               object\n",
      "price                     object\n",
      "driven_type_id             int64\n",
      "fuel_type_id              object\n",
      "newenergy_type_id          int64\n",
      "emission_standards_id      int64\n",
      "if_MPV_id                  int64\n",
      "if_luxurious_id            int64\n",
      "power                     object\n",
      "cylinder_number            int64\n",
      "engine_torque             object\n",
      "car_length                 int64\n",
      "car_width                  int64\n",
      "car_height                 int64\n",
      "total_quality              int64\n",
      "equipment_quality          int64\n",
      "rated_passenger           object\n",
      "wheelbase                  int64\n",
      "front_track                int64\n",
      "rear_track                 int64\n",
      "sale_month                 int64\n",
      "sale_year                  int64\n",
      "dtype: object\n"
     ]
    }
   ],
   "source": [
    "print(train.dtypes)"
   ]
  },
  {
   "cell_type": "code",
   "execution_count": 36,
   "metadata": {
    "ExecuteTime": {
     "end_time": "2020-05-28T04:37:45.171855Z",
     "start_time": "2020-05-28T04:37:45.148235Z"
    }
   },
   "outputs": [],
   "source": [
    "train = train.sort_values(by=['sale_date','class_id']).reset_index(drop=True)"
   ]
  },
  {
   "cell_type": "code",
   "execution_count": 40,
   "metadata": {
    "ExecuteTime": {
     "end_time": "2020-05-28T04:38:43.505510Z",
     "start_time": "2020-05-28T04:38:43.480829Z"
    }
   },
   "outputs": [
    {
     "data": {
      "text/html": [
       "<div>\n",
       "<style scoped>\n",
       "    .dataframe tbody tr th:only-of-type {\n",
       "        vertical-align: middle;\n",
       "    }\n",
       "\n",
       "    .dataframe tbody tr th {\n",
       "        vertical-align: top;\n",
       "    }\n",
       "\n",
       "    .dataframe thead th {\n",
       "        text-align: right;\n",
       "    }\n",
       "</style>\n",
       "<table border=\"1\" class=\"dataframe\">\n",
       "  <thead>\n",
       "    <tr style=\"text-align: right;\">\n",
       "      <th></th>\n",
       "      <th>sale_date</th>\n",
       "      <th>class_id</th>\n",
       "      <th>sale_quantity</th>\n",
       "      <th>brand_id</th>\n",
       "      <th>compartment</th>\n",
       "      <th>type_id</th>\n",
       "      <th>level_id</th>\n",
       "      <th>department_id</th>\n",
       "      <th>TR</th>\n",
       "      <th>gearbox_type</th>\n",
       "      <th>displacement</th>\n",
       "      <th>if_charging</th>\n",
       "      <th>price_level</th>\n",
       "      <th>price</th>\n",
       "      <th>driven_type_id</th>\n",
       "      <th>fuel_type_id</th>\n",
       "      <th>newenergy_type_id</th>\n",
       "      <th>emission_standards_id</th>\n",
       "      <th>if_MPV_id</th>\n",
       "      <th>if_luxurious_id</th>\n",
       "      <th>power</th>\n",
       "      <th>cylinder_number</th>\n",
       "      <th>engine_torque</th>\n",
       "      <th>car_length</th>\n",
       "      <th>car_width</th>\n",
       "      <th>car_height</th>\n",
       "      <th>total_quality</th>\n",
       "      <th>equipment_quality</th>\n",
       "      <th>rated_passenger</th>\n",
       "      <th>wheelbase</th>\n",
       "      <th>front_track</th>\n",
       "      <th>rear_track</th>\n",
       "      <th>sale_month</th>\n",
       "      <th>sale_year</th>\n",
       "    </tr>\n",
       "  </thead>\n",
       "  <tbody>\n",
       "    <tr>\n",
       "      <th>0</th>\n",
       "      <td>201201</td>\n",
       "      <td>125403</td>\n",
       "      <td>49</td>\n",
       "      <td>761</td>\n",
       "      <td>2</td>\n",
       "      <td>3</td>\n",
       "      <td>2</td>\n",
       "      <td>2</td>\n",
       "      <td>6</td>\n",
       "      <td>AT</td>\n",
       "      <td>2.4</td>\n",
       "      <td>L</td>\n",
       "      <td>35-50W</td>\n",
       "      <td>-</td>\n",
       "      <td>1</td>\n",
       "      <td>1</td>\n",
       "      <td>1</td>\n",
       "      <td>3</td>\n",
       "      <td>2</td>\n",
       "      <td>1</td>\n",
       "      <td>123</td>\n",
       "      <td>4</td>\n",
       "      <td>225</td>\n",
       "      <td>5256</td>\n",
       "      <td>1878</td>\n",
       "      <td>1772</td>\n",
       "      <td>2470</td>\n",
       "      <td>1840</td>\n",
       "      <td>7</td>\n",
       "      <td>3088</td>\n",
       "      <td>1593</td>\n",
       "      <td>1601</td>\n",
       "      <td>1</td>\n",
       "      <td>12</td>\n",
       "    </tr>\n",
       "    <tr>\n",
       "      <th>1</th>\n",
       "      <td>201201</td>\n",
       "      <td>125403</td>\n",
       "      <td>16</td>\n",
       "      <td>761</td>\n",
       "      <td>2</td>\n",
       "      <td>3</td>\n",
       "      <td>2</td>\n",
       "      <td>2</td>\n",
       "      <td>6</td>\n",
       "      <td>AT</td>\n",
       "      <td>2.4</td>\n",
       "      <td>L</td>\n",
       "      <td>35-50W</td>\n",
       "      <td>-</td>\n",
       "      <td>1</td>\n",
       "      <td>1</td>\n",
       "      <td>1</td>\n",
       "      <td>3</td>\n",
       "      <td>2</td>\n",
       "      <td>1</td>\n",
       "      <td>123</td>\n",
       "      <td>4</td>\n",
       "      <td>225</td>\n",
       "      <td>5213</td>\n",
       "      <td>1847</td>\n",
       "      <td>1750</td>\n",
       "      <td>2380</td>\n",
       "      <td>1840</td>\n",
       "      <td>7</td>\n",
       "      <td>3088</td>\n",
       "      <td>1593</td>\n",
       "      <td>1601</td>\n",
       "      <td>1</td>\n",
       "      <td>12</td>\n",
       "    </tr>\n",
       "  </tbody>\n",
       "</table>\n",
       "</div>"
      ],
      "text/plain": [
       "   sale_date  class_id  sale_quantity  brand_id  compartment  type_id  \\\n",
       "0     201201    125403             49       761            2        3   \n",
       "1     201201    125403             16       761            2        3   \n",
       "\n",
       "  level_id  department_id TR gearbox_type  displacement if_charging  \\\n",
       "0        2              2  6           AT           2.4           L   \n",
       "1        2              2  6           AT           2.4           L   \n",
       "\n",
       "  price_level price  driven_type_id fuel_type_id  newenergy_type_id  \\\n",
       "0      35-50W     -               1            1                  1   \n",
       "1      35-50W     -               1            1                  1   \n",
       "\n",
       "   emission_standards_id  if_MPV_id  if_luxurious_id power  cylinder_number  \\\n",
       "0                      3          2                1   123                4   \n",
       "1                      3          2                1   123                4   \n",
       "\n",
       "  engine_torque  car_length  car_width  car_height  total_quality  \\\n",
       "0           225        5256       1878        1772           2470   \n",
       "1           225        5213       1847        1750           2380   \n",
       "\n",
       "   equipment_quality rated_passenger  wheelbase  front_track  rear_track  \\\n",
       "0               1840               7       3088         1593        1601   \n",
       "1               1840               7       3088         1593        1601   \n",
       "\n",
       "   sale_month  sale_year  \n",
       "0           1         12  \n",
       "1           1         12  "
      ]
     },
     "execution_count": 40,
     "metadata": {},
     "output_type": "execute_result"
    }
   ],
   "source": [
    "train[:2]"
   ]
  },
  {
   "cell_type": "code",
   "execution_count": null,
   "metadata": {},
   "outputs": [],
   "source": []
  },
  {
   "cell_type": "markdown",
   "metadata": {},
   "source": [
    "### Data Exploration"
   ]
  },
  {
   "cell_type": "code",
   "execution_count": 22,
   "metadata": {
    "ExecuteTime": {
     "end_time": "2020-05-28T04:17:43.075193Z",
     "start_time": "2020-05-28T04:17:42.675495Z"
    }
   },
   "outputs": [],
   "source": [
    "train['sale_month'] = train['sale_date']%100\n",
    "train['sale_year'] = train['sale_date']//100%100\n",
    "test['sale_month'] = test['predict_date']%100\n",
    "test['sale_year'] = test['predict_date']//100%100"
   ]
  },
  {
   "cell_type": "code",
   "execution_count": 46,
   "metadata": {
    "ExecuteTime": {
     "end_time": "2020-05-28T05:19:06.276158Z",
     "start_time": "2020-05-28T05:14:47.143356Z"
    }
   },
   "outputs": [
    {
     "name": "stderr",
     "output_type": "stream",
     "text": [
      "/Library/Frameworks/Python.framework/Versions/3.6/lib/python3.6/site-packages/ipykernel_launcher.py:12: SettingWithCopyWarning: \n",
      "A value is trying to be set on a copy of a slice from a DataFrame.\n",
      "Try using .loc[row_indexer,col_indexer] = value instead\n",
      "\n",
      "See the caveats in the documentation: http://pandas.pydata.org/pandas-docs/stable/indexing.html#indexing-view-versus-copy\n",
      "  if sys.path[0] == '':\n"
     ]
    }
   ],
   "source": [
    "# only include the maximum sale quantity rows for each class_id & month, and put the total sales in there\n",
    "# so the dataframe merge_train have unique class_id * month rows\n",
    "merge_train = pd.DataFrame()\n",
    "all_class_id = train['class_id'].unique().tolist()\n",
    "\n",
    "for class_id in all_class_id:\n",
    "    all_month = train.loc[train['class_id']== class_id, 'sale_date'].unique().tolist()\n",
    "    for month in all_month:\n",
    "        max_val  = train.loc[(train['class_id']==class_id) & (train['sale_date']==month), 'sale_quantity'].max()\n",
    "        sale_sum = train.loc[(train['class_id']==class_id) & (train['sale_date']==month), 'sale_quantity'].sum()\n",
    "        feat_val = train.loc[(train['class_id']==class_id) & (train['sale_date']==month) & (train['sale_quantity']==max_val), :]\n",
    "        feat_val['sale_quantity'] = sale_sum\n",
    "        merge_train = pd.concat([merge_train, feat_val[0:1]])\n",
    "        \n",
    "merge_train = merge_train.sort_values(by=['sale_date'], ascending=True)"
   ]
  },
  {
   "cell_type": "code",
   "execution_count": 47,
   "metadata": {
    "ExecuteTime": {
     "end_time": "2020-05-28T05:19:06.471738Z",
     "start_time": "2020-05-28T05:19:06.467485Z"
    }
   },
   "outputs": [
    {
     "data": {
      "text/plain": [
       "(5587, 34)"
      ]
     },
     "execution_count": 47,
     "metadata": {},
     "output_type": "execute_result"
    }
   ],
   "source": [
    "merge_train.shape"
   ]
  },
  {
   "cell_type": "code",
   "execution_count": 48,
   "metadata": {
    "ExecuteTime": {
     "end_time": "2020-05-28T05:19:06.744462Z",
     "start_time": "2020-05-28T05:19:06.692453Z"
    }
   },
   "outputs": [
    {
     "name": "stderr",
     "output_type": "stream",
     "text": [
      "/Library/Frameworks/Python.framework/Versions/3.6/lib/python3.6/site-packages/pandas/core/indexing.py:1472: FutureWarning: \n",
      "Passing list-likes to .loc or [] with any missing label will raise\n",
      "KeyError in the future, you can use .reindex() as an alternative.\n",
      "\n",
      "See the documentation here:\n",
      "https://pandas.pydata.org/pandas-docs/stable/indexing.html#deprecate-loc-reindex-listlike\n",
      "  return self._getitem_tuple(key)\n"
     ]
    }
   ],
   "source": [
    "merge_train = merge_train[['sale_date', 'class_id', 'sale_quantity', 'sale_month', 'sale_year']]\n",
    "cols = ['sale_date', 'class_id', 'sale_quantity', 'sale_month', 'sale_year']\n",
    "############### Remove Nov ##################\n",
    "merge_train = merge_train.loc[merge_train['sale_month']!=11, :]\n",
    "test = test.loc[:, cols]\n",
    "test['sale_date'] = test['sale_date'].fillna(201712)\n",
    "test['sale_date'] = test['sale_date'].astype(int)"
   ]
  },
  {
   "cell_type": "code",
   "execution_count": 68,
   "metadata": {
    "ExecuteTime": {
     "end_time": "2020-05-28T05:49:17.123663Z",
     "start_time": "2020-05-28T05:49:17.115463Z"
    }
   },
   "outputs": [],
   "source": [
    "# looking for class_id that has less than 14 training months\n",
    "months_data_per_class = merge_train[['class_id','sale_quantity']].groupby(['class_id']).count().reset_index()"
   ]
  },
  {
   "cell_type": "code",
   "execution_count": 69,
   "metadata": {
    "ExecuteTime": {
     "end_time": "2020-05-28T05:49:17.326619Z",
     "start_time": "2020-05-28T05:49:17.322354Z"
    }
   },
   "outputs": [
    {
     "name": "stdout",
     "output_type": "stream",
     "text": [
      "Number of classes with less than 14 months records : 34\n"
     ]
    }
   ],
   "source": [
    "print('Number of classes with less than 14 months records :', \n",
    "      months_data_per_class.loc[months_data_per_class['sale_quantity'] < 14, 'class_id'].shape[0])"
   ]
  },
  {
   "cell_type": "code",
   "execution_count": 70,
   "metadata": {
    "ExecuteTime": {
     "end_time": "2020-05-28T05:49:17.705700Z",
     "start_time": "2020-05-28T05:49:17.690968Z"
    }
   },
   "outputs": [
    {
     "name": "stdout",
     "output_type": "stream",
     "text": [
      "(5195, 5) (140, 5)\n"
     ]
    }
   ],
   "source": [
    "print(merge_train.shape, test.shape)\n",
    "class_12 = months_data_per_class.loc[months_data_per_class['sale_quantity']<14, 'class_id']\n",
    "class_12 = class_12.tolist()\n",
    "all_data = pd.concat((merge_train, test)).reset_index(drop=True)"
   ]
  },
  {
   "cell_type": "code",
   "execution_count": 71,
   "metadata": {
    "ExecuteTime": {
     "end_time": "2020-05-28T05:49:21.973337Z",
     "start_time": "2020-05-28T05:49:21.952077Z"
    }
   },
   "outputs": [
    {
     "data": {
      "text/html": [
       "<div>\n",
       "<style scoped>\n",
       "    .dataframe tbody tr th:only-of-type {\n",
       "        vertical-align: middle;\n",
       "    }\n",
       "\n",
       "    .dataframe tbody tr th {\n",
       "        vertical-align: top;\n",
       "    }\n",
       "\n",
       "    .dataframe thead th {\n",
       "        text-align: right;\n",
       "    }\n",
       "</style>\n",
       "<table border=\"1\" class=\"dataframe\">\n",
       "  <thead>\n",
       "    <tr style=\"text-align: right;\">\n",
       "      <th></th>\n",
       "      <th>sale_date</th>\n",
       "      <th>class_id</th>\n",
       "      <th>sale_quantity</th>\n",
       "      <th>sale_month</th>\n",
       "      <th>sale_year</th>\n",
       "    </tr>\n",
       "  </thead>\n",
       "  <tbody>\n",
       "    <tr>\n",
       "      <th>0</th>\n",
       "      <td>201201</td>\n",
       "      <td>125403</td>\n",
       "      <td>90.0</td>\n",
       "      <td>1</td>\n",
       "      <td>12</td>\n",
       "    </tr>\n",
       "    <tr>\n",
       "      <th>1</th>\n",
       "      <td>201201</td>\n",
       "      <td>628041</td>\n",
       "      <td>186.0</td>\n",
       "      <td>1</td>\n",
       "      <td>12</td>\n",
       "    </tr>\n",
       "    <tr>\n",
       "      <th>2</th>\n",
       "      <td>201201</td>\n",
       "      <td>651347</td>\n",
       "      <td>54.0</td>\n",
       "      <td>1</td>\n",
       "      <td>12</td>\n",
       "    </tr>\n",
       "    <tr>\n",
       "      <th>3</th>\n",
       "      <td>201201</td>\n",
       "      <td>290854</td>\n",
       "      <td>632.0</td>\n",
       "      <td>1</td>\n",
       "      <td>12</td>\n",
       "    </tr>\n",
       "    <tr>\n",
       "      <th>4</th>\n",
       "      <td>201201</td>\n",
       "      <td>682651</td>\n",
       "      <td>373.0</td>\n",
       "      <td>1</td>\n",
       "      <td>12</td>\n",
       "    </tr>\n",
       "  </tbody>\n",
       "</table>\n",
       "</div>"
      ],
      "text/plain": [
       "   sale_date  class_id  sale_quantity  sale_month  sale_year\n",
       "0     201201    125403           90.0           1         12\n",
       "1     201201    628041          186.0           1         12\n",
       "2     201201    651347           54.0           1         12\n",
       "3     201201    290854          632.0           1         12\n",
       "4     201201    682651          373.0           1         12"
      ]
     },
     "execution_count": 71,
     "metadata": {},
     "output_type": "execute_result"
    }
   ],
   "source": [
    "all_data.head()"
   ]
  },
  {
   "cell_type": "code",
   "execution_count": 74,
   "metadata": {
    "ExecuteTime": {
     "end_time": "2020-05-28T05:50:49.016685Z",
     "start_time": "2020-05-28T05:50:49.009009Z"
    }
   },
   "outputs": [],
   "source": [
    "### remove all the class_ids with less than 14 months records\n",
    "all_data = all_data.loc[~all_data['class_id'].isin(class_12), :]"
   ]
  },
  {
   "cell_type": "code",
   "execution_count": 75,
   "metadata": {
    "ExecuteTime": {
     "end_time": "2020-05-28T05:50:52.439046Z",
     "start_time": "2020-05-28T05:50:52.427462Z"
    }
   },
   "outputs": [
    {
     "data": {
      "text/plain": [
       "(5034, 5)"
      ]
     },
     "execution_count": 75,
     "metadata": {},
     "output_type": "execute_result"
    }
   ],
   "source": [
    "all_data.shape"
   ]
  },
  {
   "cell_type": "code",
   "execution_count": 84,
   "metadata": {
    "ExecuteTime": {
     "end_time": "2020-05-28T05:54:15.827389Z",
     "start_time": "2020-05-28T05:54:15.823304Z"
    }
   },
   "outputs": [
    {
     "name": "stdout",
     "output_type": "stream",
     "text": [
      "Before removing claass_id, we have 140 classes\n"
     ]
    }
   ],
   "source": [
    "print(\"Before removing claass_id, we have\", \n",
    "      len(all_class_id), \"classes\")"
   ]
  },
  {
   "cell_type": "code",
   "execution_count": 83,
   "metadata": {
    "ExecuteTime": {
     "end_time": "2020-05-28T05:53:31.648606Z",
     "start_time": "2020-05-28T05:53:31.644352Z"
    }
   },
   "outputs": [
    {
     "name": "stdout",
     "output_type": "stream",
     "text": [
      "After removing class_id with less than 14 months record, we have 106 classes left\n"
     ]
    }
   ],
   "source": [
    "print(\"After removing class_id with less than 14 months record, we have\", \n",
    "      len(np.unique(all_data['class_id'])), \"classes left\")"
   ]
  },
  {
   "cell_type": "code",
   "execution_count": 76,
   "metadata": {
    "ExecuteTime": {
     "end_time": "2020-05-28T05:50:58.140268Z",
     "start_time": "2020-05-28T05:50:58.134526Z"
    }
   },
   "outputs": [
    {
     "data": {
      "text/plain": [
       "array([201201, 201202, 201203, 201204, 201205, 201206, 201207, 201208,\n",
       "       201209, 201210, 201212, 201301, 201302, 201303, 201304, 201305,\n",
       "       201306, 201307, 201308, 201309, 201310, 201312, 201401, 201402,\n",
       "       201403, 201404, 201405, 201406, 201407, 201408, 201409, 201410,\n",
       "       201412, 201501, 201502, 201503, 201504, 201505, 201506, 201507,\n",
       "       201508, 201509, 201510, 201512, 201601, 201602, 201603, 201604,\n",
       "       201605, 201606, 201607, 201608, 201609, 201610, 201612, 201701,\n",
       "       201702, 201703, 201704, 201705, 201706, 201707, 201708, 201709,\n",
       "       201710, 201712])"
      ]
     },
     "execution_count": 76,
     "metadata": {},
     "output_type": "execute_result"
    }
   ],
   "source": [
    "np.unique(all_data['sale_date'])"
   ]
  },
  {
   "cell_type": "code",
   "execution_count": 85,
   "metadata": {
    "ExecuteTime": {
     "end_time": "2020-05-28T05:56:49.564314Z",
     "start_time": "2020-05-28T05:56:49.526834Z"
    }
   },
   "outputs": [
    {
     "data": {
      "text/plain": [
       "class_id\n",
       "103507    31\n",
       "124140    40\n",
       "125403    66\n",
       "136916    66\n",
       "175962    56\n",
       "178529    66\n",
       "186250    21\n",
       "194450    65\n",
       "198427    50\n",
       "206765    27\n",
       "209945    66\n",
       "219195    37\n",
       "221795    52\n",
       "245609    19\n",
       "248352    66\n",
       "250658    20\n",
       "265980    65\n",
       "270690    33\n",
       "281301    66\n",
       "281792    39\n",
       "289386    39\n",
       "289403    18\n",
       "290854    66\n",
       "291086    66\n",
       "291514    57\n",
       "          ..\n",
       "714860    36\n",
       "732758    62\n",
       "735971    66\n",
       "736094    22\n",
       "739296    38\n",
       "741152    35\n",
       "745137    62\n",
       "750340    27\n",
       "786351    58\n",
       "810398    26\n",
       "819061    66\n",
       "851857    19\n",
       "854079    49\n",
       "871642    51\n",
       "883691    66\n",
       "905745    56\n",
       "914348    66\n",
       "923841    64\n",
       "924154    33\n",
       "950264    16\n",
       "953842    21\n",
       "961362    66\n",
       "961962    66\n",
       "963845    35\n",
       "978089    37\n",
       "Name: sale_date, Length: 106, dtype: int64"
      ]
     },
     "execution_count": 85,
     "metadata": {},
     "output_type": "execute_result"
    }
   ],
   "source": [
    "all_data.groupby(['class_id'])['sale_date'].apply(lambda x : len(np.unique(x)))"
   ]
  },
  {
   "cell_type": "code",
   "execution_count": null,
   "metadata": {},
   "outputs": [],
   "source": []
  },
  {
   "cell_type": "code",
   "execution_count": 77,
   "metadata": {
    "ExecuteTime": {
     "end_time": "2020-05-28T05:50:58.779424Z",
     "start_time": "2020-05-28T05:50:58.774029Z"
    }
   },
   "outputs": [
    {
     "data": {
      "text/plain": [
       "array([201201, 201202, 201203, 201204, 201205, 201206, 201207, 201208,\n",
       "       201209, 201210, 201212, 201301, 201302, 201303, 201304, 201305,\n",
       "       201306, 201307, 201308, 201309, 201310, 201312, 201401, 201402,\n",
       "       201403, 201404, 201405, 201406, 201407, 201408, 201409, 201410,\n",
       "       201412, 201501, 201502, 201503, 201504, 201505, 201506, 201507,\n",
       "       201508, 201509, 201510, 201512, 201601, 201602, 201603, 201604,\n",
       "       201605, 201606, 201607, 201608, 201609, 201610, 201612, 201701,\n",
       "       201702, 201703, 201704, 201705, 201706, 201707, 201708, 201709,\n",
       "       201710])"
      ]
     },
     "execution_count": 77,
     "metadata": {},
     "output_type": "execute_result"
    }
   ],
   "source": [
    "np.unique(merge_train['sale_date'])"
   ]
  },
  {
   "cell_type": "code",
   "execution_count": 78,
   "metadata": {
    "ExecuteTime": {
     "end_time": "2020-05-28T05:51:02.627777Z",
     "start_time": "2020-05-28T05:51:02.622648Z"
    }
   },
   "outputs": [
    {
     "data": {
      "text/plain": [
       "array([201712])"
      ]
     },
     "execution_count": 78,
     "metadata": {},
     "output_type": "execute_result"
    }
   ],
   "source": [
    "np.unique(test['sale_date'])"
   ]
  },
  {
   "cell_type": "code",
   "execution_count": 86,
   "metadata": {
    "ExecuteTime": {
     "end_time": "2020-05-28T06:08:49.279114Z",
     "start_time": "2020-05-28T06:08:49.223715Z"
    }
   },
   "outputs": [
    {
     "data": {
      "text/html": [
       "<div>\n",
       "<style scoped>\n",
       "    .dataframe tbody tr th:only-of-type {\n",
       "        vertical-align: middle;\n",
       "    }\n",
       "\n",
       "    .dataframe tbody tr th {\n",
       "        vertical-align: top;\n",
       "    }\n",
       "\n",
       "    .dataframe thead th {\n",
       "        text-align: right;\n",
       "    }\n",
       "</style>\n",
       "<table border=\"1\" class=\"dataframe\">\n",
       "  <thead>\n",
       "    <tr style=\"text-align: right;\">\n",
       "      <th></th>\n",
       "      <th>sale_date</th>\n",
       "      <th>class_id</th>\n",
       "      <th>sale_quantity</th>\n",
       "      <th>sale_month</th>\n",
       "      <th>sale_year</th>\n",
       "    </tr>\n",
       "  </thead>\n",
       "  <tbody>\n",
       "    <tr>\n",
       "      <th>0</th>\n",
       "      <td>201201</td>\n",
       "      <td>125403</td>\n",
       "      <td>90.0</td>\n",
       "      <td>1</td>\n",
       "      <td>12</td>\n",
       "    </tr>\n",
       "    <tr>\n",
       "      <th>1</th>\n",
       "      <td>201201</td>\n",
       "      <td>628041</td>\n",
       "      <td>186.0</td>\n",
       "      <td>1</td>\n",
       "      <td>12</td>\n",
       "    </tr>\n",
       "    <tr>\n",
       "      <th>2</th>\n",
       "      <td>201201</td>\n",
       "      <td>651347</td>\n",
       "      <td>54.0</td>\n",
       "      <td>1</td>\n",
       "      <td>12</td>\n",
       "    </tr>\n",
       "    <tr>\n",
       "      <th>3</th>\n",
       "      <td>201201</td>\n",
       "      <td>290854</td>\n",
       "      <td>632.0</td>\n",
       "      <td>1</td>\n",
       "      <td>12</td>\n",
       "    </tr>\n",
       "    <tr>\n",
       "      <th>4</th>\n",
       "      <td>201201</td>\n",
       "      <td>682651</td>\n",
       "      <td>373.0</td>\n",
       "      <td>1</td>\n",
       "      <td>12</td>\n",
       "    </tr>\n",
       "    <tr>\n",
       "      <th>5</th>\n",
       "      <td>201201</td>\n",
       "      <td>713651</td>\n",
       "      <td>192.0</td>\n",
       "      <td>1</td>\n",
       "      <td>12</td>\n",
       "    </tr>\n",
       "    <tr>\n",
       "      <th>6</th>\n",
       "      <td>201201</td>\n",
       "      <td>714152</td>\n",
       "      <td>298.0</td>\n",
       "      <td>1</td>\n",
       "      <td>12</td>\n",
       "    </tr>\n",
       "    <tr>\n",
       "      <th>7</th>\n",
       "      <td>201201</td>\n",
       "      <td>281301</td>\n",
       "      <td>965.0</td>\n",
       "      <td>1</td>\n",
       "      <td>12</td>\n",
       "    </tr>\n",
       "    <tr>\n",
       "      <th>8</th>\n",
       "      <td>201201</td>\n",
       "      <td>735971</td>\n",
       "      <td>877.0</td>\n",
       "      <td>1</td>\n",
       "      <td>12</td>\n",
       "    </tr>\n",
       "    <tr>\n",
       "      <th>9</th>\n",
       "      <td>201201</td>\n",
       "      <td>819061</td>\n",
       "      <td>640.0</td>\n",
       "      <td>1</td>\n",
       "      <td>12</td>\n",
       "    </tr>\n",
       "    <tr>\n",
       "      <th>10</th>\n",
       "      <td>201201</td>\n",
       "      <td>248352</td>\n",
       "      <td>1713.0</td>\n",
       "      <td>1</td>\n",
       "      <td>12</td>\n",
       "    </tr>\n",
       "    <tr>\n",
       "      <th>11</th>\n",
       "      <td>201201</td>\n",
       "      <td>883691</td>\n",
       "      <td>159.0</td>\n",
       "      <td>1</td>\n",
       "      <td>12</td>\n",
       "    </tr>\n",
       "    <tr>\n",
       "      <th>12</th>\n",
       "      <td>201201</td>\n",
       "      <td>914348</td>\n",
       "      <td>660.0</td>\n",
       "      <td>1</td>\n",
       "      <td>12</td>\n",
       "    </tr>\n",
       "    <tr>\n",
       "      <th>13</th>\n",
       "      <td>201201</td>\n",
       "      <td>209945</td>\n",
       "      <td>168.0</td>\n",
       "      <td>1</td>\n",
       "      <td>12</td>\n",
       "    </tr>\n",
       "    <tr>\n",
       "      <th>14</th>\n",
       "      <td>201201</td>\n",
       "      <td>961362</td>\n",
       "      <td>182.0</td>\n",
       "      <td>1</td>\n",
       "      <td>12</td>\n",
       "    </tr>\n",
       "    <tr>\n",
       "      <th>15</th>\n",
       "      <td>201201</td>\n",
       "      <td>961962</td>\n",
       "      <td>16.0</td>\n",
       "      <td>1</td>\n",
       "      <td>12</td>\n",
       "    </tr>\n",
       "    <tr>\n",
       "      <th>16</th>\n",
       "      <td>201201</td>\n",
       "      <td>198427</td>\n",
       "      <td>47.0</td>\n",
       "      <td>1</td>\n",
       "      <td>12</td>\n",
       "    </tr>\n",
       "    <tr>\n",
       "      <th>17</th>\n",
       "      <td>201201</td>\n",
       "      <td>194450</td>\n",
       "      <td>65.0</td>\n",
       "      <td>1</td>\n",
       "      <td>12</td>\n",
       "    </tr>\n",
       "    <tr>\n",
       "      <th>18</th>\n",
       "      <td>201201</td>\n",
       "      <td>291086</td>\n",
       "      <td>507.0</td>\n",
       "      <td>1</td>\n",
       "      <td>12</td>\n",
       "    </tr>\n",
       "    <tr>\n",
       "      <th>19</th>\n",
       "      <td>201201</td>\n",
       "      <td>178529</td>\n",
       "      <td>1739.0</td>\n",
       "      <td>1</td>\n",
       "      <td>12</td>\n",
       "    </tr>\n",
       "    <tr>\n",
       "      <th>20</th>\n",
       "      <td>201201</td>\n",
       "      <td>614059</td>\n",
       "      <td>240.0</td>\n",
       "      <td>1</td>\n",
       "      <td>12</td>\n",
       "    </tr>\n",
       "    <tr>\n",
       "      <th>21</th>\n",
       "      <td>201201</td>\n",
       "      <td>304458</td>\n",
       "      <td>499.0</td>\n",
       "      <td>1</td>\n",
       "      <td>12</td>\n",
       "    </tr>\n",
       "    <tr>\n",
       "      <th>22</th>\n",
       "      <td>201201</td>\n",
       "      <td>409854</td>\n",
       "      <td>120.0</td>\n",
       "      <td>1</td>\n",
       "      <td>12</td>\n",
       "    </tr>\n",
       "    <tr>\n",
       "      <th>23</th>\n",
       "      <td>201201</td>\n",
       "      <td>384924</td>\n",
       "      <td>738.0</td>\n",
       "      <td>1</td>\n",
       "      <td>12</td>\n",
       "    </tr>\n",
       "    <tr>\n",
       "      <th>24</th>\n",
       "      <td>201201</td>\n",
       "      <td>425432</td>\n",
       "      <td>1994.0</td>\n",
       "      <td>1</td>\n",
       "      <td>12</td>\n",
       "    </tr>\n",
       "    <tr>\n",
       "      <th>...</th>\n",
       "      <td>...</td>\n",
       "      <td>...</td>\n",
       "      <td>...</td>\n",
       "      <td>...</td>\n",
       "      <td>...</td>\n",
       "    </tr>\n",
       "    <tr>\n",
       "      <th>5302</th>\n",
       "      <td>201712</td>\n",
       "      <td>103507</td>\n",
       "      <td>NaN</td>\n",
       "      <td>12</td>\n",
       "      <td>17</td>\n",
       "    </tr>\n",
       "    <tr>\n",
       "      <th>5303</th>\n",
       "      <td>201712</td>\n",
       "      <td>953842</td>\n",
       "      <td>NaN</td>\n",
       "      <td>12</td>\n",
       "      <td>17</td>\n",
       "    </tr>\n",
       "    <tr>\n",
       "      <th>5304</th>\n",
       "      <td>201712</td>\n",
       "      <td>819061</td>\n",
       "      <td>NaN</td>\n",
       "      <td>12</td>\n",
       "      <td>17</td>\n",
       "    </tr>\n",
       "    <tr>\n",
       "      <th>5306</th>\n",
       "      <td>201712</td>\n",
       "      <td>492952</td>\n",
       "      <td>NaN</td>\n",
       "      <td>12</td>\n",
       "      <td>17</td>\n",
       "    </tr>\n",
       "    <tr>\n",
       "      <th>5307</th>\n",
       "      <td>201712</td>\n",
       "      <td>580634</td>\n",
       "      <td>NaN</td>\n",
       "      <td>12</td>\n",
       "      <td>17</td>\n",
       "    </tr>\n",
       "    <tr>\n",
       "      <th>5308</th>\n",
       "      <td>201712</td>\n",
       "      <td>559132</td>\n",
       "      <td>NaN</td>\n",
       "      <td>12</td>\n",
       "      <td>17</td>\n",
       "    </tr>\n",
       "    <tr>\n",
       "      <th>5309</th>\n",
       "      <td>201712</td>\n",
       "      <td>961362</td>\n",
       "      <td>NaN</td>\n",
       "      <td>12</td>\n",
       "      <td>17</td>\n",
       "    </tr>\n",
       "    <tr>\n",
       "      <th>5310</th>\n",
       "      <td>201712</td>\n",
       "      <td>354068</td>\n",
       "      <td>NaN</td>\n",
       "      <td>12</td>\n",
       "      <td>17</td>\n",
       "    </tr>\n",
       "    <tr>\n",
       "      <th>5311</th>\n",
       "      <td>201712</td>\n",
       "      <td>348641</td>\n",
       "      <td>NaN</td>\n",
       "      <td>12</td>\n",
       "      <td>17</td>\n",
       "    </tr>\n",
       "    <tr>\n",
       "      <th>5313</th>\n",
       "      <td>201712</td>\n",
       "      <td>950264</td>\n",
       "      <td>NaN</td>\n",
       "      <td>12</td>\n",
       "      <td>17</td>\n",
       "    </tr>\n",
       "    <tr>\n",
       "      <th>5315</th>\n",
       "      <td>201712</td>\n",
       "      <td>560265</td>\n",
       "      <td>NaN</td>\n",
       "      <td>12</td>\n",
       "      <td>17</td>\n",
       "    </tr>\n",
       "    <tr>\n",
       "      <th>5318</th>\n",
       "      <td>201712</td>\n",
       "      <td>621073</td>\n",
       "      <td>NaN</td>\n",
       "      <td>12</td>\n",
       "      <td>17</td>\n",
       "    </tr>\n",
       "    <tr>\n",
       "      <th>5319</th>\n",
       "      <td>201712</td>\n",
       "      <td>516750</td>\n",
       "      <td>NaN</td>\n",
       "      <td>12</td>\n",
       "      <td>17</td>\n",
       "    </tr>\n",
       "    <tr>\n",
       "      <th>5320</th>\n",
       "      <td>201712</td>\n",
       "      <td>270690</td>\n",
       "      <td>NaN</td>\n",
       "      <td>12</td>\n",
       "      <td>17</td>\n",
       "    </tr>\n",
       "    <tr>\n",
       "      <th>5321</th>\n",
       "      <td>201712</td>\n",
       "      <td>178529</td>\n",
       "      <td>NaN</td>\n",
       "      <td>12</td>\n",
       "      <td>17</td>\n",
       "    </tr>\n",
       "    <tr>\n",
       "      <th>5322</th>\n",
       "      <td>201712</td>\n",
       "      <td>786351</td>\n",
       "      <td>NaN</td>\n",
       "      <td>12</td>\n",
       "      <td>17</td>\n",
       "    </tr>\n",
       "    <tr>\n",
       "      <th>5323</th>\n",
       "      <td>201712</td>\n",
       "      <td>526401</td>\n",
       "      <td>NaN</td>\n",
       "      <td>12</td>\n",
       "      <td>17</td>\n",
       "    </tr>\n",
       "    <tr>\n",
       "      <th>5324</th>\n",
       "      <td>201712</td>\n",
       "      <td>436105</td>\n",
       "      <td>NaN</td>\n",
       "      <td>12</td>\n",
       "      <td>17</td>\n",
       "    </tr>\n",
       "    <tr>\n",
       "      <th>5325</th>\n",
       "      <td>201712</td>\n",
       "      <td>194450</td>\n",
       "      <td>NaN</td>\n",
       "      <td>12</td>\n",
       "      <td>17</td>\n",
       "    </tr>\n",
       "    <tr>\n",
       "      <th>5326</th>\n",
       "      <td>201712</td>\n",
       "      <td>963845</td>\n",
       "      <td>NaN</td>\n",
       "      <td>12</td>\n",
       "      <td>17</td>\n",
       "    </tr>\n",
       "    <tr>\n",
       "      <th>5327</th>\n",
       "      <td>201712</td>\n",
       "      <td>349023</td>\n",
       "      <td>NaN</td>\n",
       "      <td>12</td>\n",
       "      <td>17</td>\n",
       "    </tr>\n",
       "    <tr>\n",
       "      <th>5329</th>\n",
       "      <td>201712</td>\n",
       "      <td>923841</td>\n",
       "      <td>NaN</td>\n",
       "      <td>12</td>\n",
       "      <td>17</td>\n",
       "    </tr>\n",
       "    <tr>\n",
       "      <th>5330</th>\n",
       "      <td>201712</td>\n",
       "      <td>250658</td>\n",
       "      <td>NaN</td>\n",
       "      <td>12</td>\n",
       "      <td>17</td>\n",
       "    </tr>\n",
       "    <tr>\n",
       "      <th>5332</th>\n",
       "      <td>201712</td>\n",
       "      <td>395234</td>\n",
       "      <td>NaN</td>\n",
       "      <td>12</td>\n",
       "      <td>17</td>\n",
       "    </tr>\n",
       "    <tr>\n",
       "      <th>5334</th>\n",
       "      <td>201712</td>\n",
       "      <td>136916</td>\n",
       "      <td>NaN</td>\n",
       "      <td>12</td>\n",
       "      <td>17</td>\n",
       "    </tr>\n",
       "  </tbody>\n",
       "</table>\n",
       "<p>5034 rows × 5 columns</p>\n",
       "</div>"
      ],
      "text/plain": [
       "      sale_date  class_id  sale_quantity  sale_month  sale_year\n",
       "0        201201    125403           90.0           1         12\n",
       "1        201201    628041          186.0           1         12\n",
       "2        201201    651347           54.0           1         12\n",
       "3        201201    290854          632.0           1         12\n",
       "4        201201    682651          373.0           1         12\n",
       "5        201201    713651          192.0           1         12\n",
       "6        201201    714152          298.0           1         12\n",
       "7        201201    281301          965.0           1         12\n",
       "8        201201    735971          877.0           1         12\n",
       "9        201201    819061          640.0           1         12\n",
       "10       201201    248352         1713.0           1         12\n",
       "11       201201    883691          159.0           1         12\n",
       "12       201201    914348          660.0           1         12\n",
       "13       201201    209945          168.0           1         12\n",
       "14       201201    961362          182.0           1         12\n",
       "15       201201    961962           16.0           1         12\n",
       "16       201201    198427           47.0           1         12\n",
       "17       201201    194450           65.0           1         12\n",
       "18       201201    291086          507.0           1         12\n",
       "19       201201    178529         1739.0           1         12\n",
       "20       201201    614059          240.0           1         12\n",
       "21       201201    304458          499.0           1         12\n",
       "22       201201    409854          120.0           1         12\n",
       "23       201201    384924          738.0           1         12\n",
       "24       201201    425432         1994.0           1         12\n",
       "...         ...       ...            ...         ...        ...\n",
       "5302     201712    103507            NaN          12         17\n",
       "5303     201712    953842            NaN          12         17\n",
       "5304     201712    819061            NaN          12         17\n",
       "5306     201712    492952            NaN          12         17\n",
       "5307     201712    580634            NaN          12         17\n",
       "5308     201712    559132            NaN          12         17\n",
       "5309     201712    961362            NaN          12         17\n",
       "5310     201712    354068            NaN          12         17\n",
       "5311     201712    348641            NaN          12         17\n",
       "5313     201712    950264            NaN          12         17\n",
       "5315     201712    560265            NaN          12         17\n",
       "5318     201712    621073            NaN          12         17\n",
       "5319     201712    516750            NaN          12         17\n",
       "5320     201712    270690            NaN          12         17\n",
       "5321     201712    178529            NaN          12         17\n",
       "5322     201712    786351            NaN          12         17\n",
       "5323     201712    526401            NaN          12         17\n",
       "5324     201712    436105            NaN          12         17\n",
       "5325     201712    194450            NaN          12         17\n",
       "5326     201712    963845            NaN          12         17\n",
       "5327     201712    349023            NaN          12         17\n",
       "5329     201712    923841            NaN          12         17\n",
       "5330     201712    250658            NaN          12         17\n",
       "5332     201712    395234            NaN          12         17\n",
       "5334     201712    136916            NaN          12         17\n",
       "\n",
       "[5034 rows x 5 columns]"
      ]
     },
     "execution_count": 86,
     "metadata": {},
     "output_type": "execute_result"
    }
   ],
   "source": [
    "all_data"
   ]
  },
  {
   "cell_type": "code",
   "execution_count": 79,
   "metadata": {
    "ExecuteTime": {
     "end_time": "2020-05-28T05:51:50.563151Z",
     "start_time": "2020-05-28T05:51:50.557139Z"
    }
   },
   "outputs": [],
   "source": [
    "def rolling(df,roll,window):\n",
    "    last=roll(df, window=window).tolist()\n",
    "    last=[np.NaN]+last\n",
    "    last.pop()\n",
    "    return last"
   ]
  },
  {
   "cell_type": "code",
   "execution_count": null,
   "metadata": {},
   "outputs": [],
   "source": [
    "new = pd.DataFrame()\n",
    "for class_id in all_class_id:\n",
    "    df = all_data.loc[all_data['class_id'] == class_id, :]\n",
    "    df['last_1_sum'] = rolling(df['sale_quantity'], pd.rolling_sum, window=1)\n",
    "    df['last_2_sum'] = rolling(df['sale_quantity'], pd.rolling_sum, window=2)\n",
    "    df['last_3_sum'] = rolling(df['sale_quantity'], pd.rolling_sum, window=3)\n",
    "    df['last_4_sum'] = rolling(df['sale_quantity'], pd.rolling_sum, window=4)\n",
    "    df['last_5_sum'] = rolling(df['sale_quantity'], pd.rolling_sum, window=5)\n",
    "    df['last_6_sum'] = rolling(df['sale_quantity'], pd.rolling_sum, window=6)\n",
    "    df['last_7_sum'] = rolling(df['sale_quantity'], pd.rolling_sum, window=7)\n",
    "    df['last_8_sum'] = rolling(df['sale_quantity'], pd.rolling_sum, window=8)\n",
    "    df['last_9_sum'] = rolling(df['sale_quantity'], pd.rolling_sum, window=9)\n",
    "    df['last_10_sum'] = rolling(df['sale_quantity'], pd.rolling_sum, window=10)\n",
    "    df['last_11_sum'] = rolling(df['sale_quantity'], pd.rolling_sum, window=11)\n",
    "    df['last_12_sum'] = rolling(df['sale_quantity'], pd.rolling_sum, window=12)\n",
    "    df['last_13_sum'] = rolling(df['sale_quantity'], pd.rolling_sum, window=13)\n",
    "    \n",
    "    df['last_5_mean'] = rolling(df['sale_quantity'], pd.rolling_mean, window=5)\n",
    "    df['last_5_std'] = rolling(df['sale_quantity'], pd.rolling_std, window=5)\n",
    "    \n",
    "    df['move_1'] = df['last_1_sum']\n",
    "    df['move_2'] = df['last_2_sum'] - df['last_1_sum']\n",
    "    df['move_3'] = df['last_3_sum'] - df['last_2_sum']\n",
    "    df['move_4'] = df['last_4_sum'] - df['last_3_sum']\n",
    "    df['move_5'] = df['last_5_sum'] - df['last_4_sum']\n",
    "    \n",
    "    df['move_9'] = df['last_9_sum'] - df['last_8_sum']\n",
    "    \n",
    "    df['move_11'] = df['last_11_sum'] - df['last_10_sum']\n",
    "    df['move_12'] = df['last_12_sum'] - df['last_11_sum']\n",
    "    df['move_13'] = df['last_13_sum'] - df['last_12_sum']\n",
    "    \n",
    "    \n",
    "    df['diff_12'] = df['move_11'] - df['move_12']\n",
    "    #df['diff_13'] = df['move_11'] - df['move_13']\n",
    "    \n",
    "    #对于12月份的滑动值特殊处理,因为不存才201711的特征\n",
    "    #diff = df['move_11'][df['sale_month']==12] - df['move_13'][df['sale_month']==12]\n",
    "    #df['diff_12'][df['sale_month']==12] = diff\n",
    "    #move = df['last_11_sum'][df['sale_month']==12] - df['last_10_sum'][df['sale_month']==12]\n",
    "    #df['move_12'][df['sale_month']==12] = move\n",
    "    \n",
    "    new = pd.concat([new, df])"
   ]
  },
  {
   "cell_type": "code",
   "execution_count": null,
   "metadata": {},
   "outputs": [],
   "source": []
  },
  {
   "cell_type": "code",
   "execution_count": null,
   "metadata": {},
   "outputs": [],
   "source": []
  }
 ],
 "metadata": {
  "kernelspec": {
   "display_name": "Python 3",
   "language": "python",
   "name": "python3"
  },
  "language_info": {
   "codemirror_mode": {
    "name": "ipython",
    "version": 3
   },
   "file_extension": ".py",
   "mimetype": "text/x-python",
   "name": "python",
   "nbconvert_exporter": "python",
   "pygments_lexer": "ipython3",
   "version": "3.6.6"
  },
  "toc": {
   "base_numbering": 1,
   "nav_menu": {},
   "number_sections": true,
   "sideBar": true,
   "skip_h1_title": false,
   "title_cell": "Table of Contents",
   "title_sidebar": "Contents",
   "toc_cell": false,
   "toc_position": {},
   "toc_section_display": true,
   "toc_window_display": false
  },
  "varInspector": {
   "cols": {
    "lenName": 16,
    "lenType": 16,
    "lenVar": 40
   },
   "kernels_config": {
    "python": {
     "delete_cmd_postfix": "",
     "delete_cmd_prefix": "del ",
     "library": "var_list.py",
     "varRefreshCmd": "print(var_dic_list())"
    },
    "r": {
     "delete_cmd_postfix": ") ",
     "delete_cmd_prefix": "rm(",
     "library": "var_list.r",
     "varRefreshCmd": "cat(var_dic_list()) "
    }
   },
   "types_to_exclude": [
    "module",
    "function",
    "builtin_function_or_method",
    "instance",
    "_Feature"
   ],
   "window_display": false
  }
 },
 "nbformat": 4,
 "nbformat_minor": 2
}
