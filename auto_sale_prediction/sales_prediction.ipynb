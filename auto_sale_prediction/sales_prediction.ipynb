{
 "cells": [
  {
   "cell_type": "code",
   "execution_count": 1,
   "metadata": {
    "ExecuteTime": {
     "end_time": "2020-05-28T04:02:33.684516Z",
     "start_time": "2020-05-28T04:02:24.058561Z"
    }
   },
   "outputs": [],
   "source": [
    "import numpy as np\n",
    "import pandas as pd\n",
    "from sklearn.preprocessing import LabelEncoder\n",
    "from sklearn.preprocessing import MaxAbsScaler\n",
    "import matplotlib.pyplot as plt\n",
    "import seaborn as sns"
   ]
  },
  {
   "cell_type": "code",
   "execution_count": 39,
   "metadata": {
    "ExecuteTime": {
     "end_time": "2020-05-28T04:38:40.487921Z",
     "start_time": "2020-05-28T04:38:40.462845Z"
    }
   },
   "outputs": [],
   "source": [
    "pd.set_option('display.max_columns', 50)\n",
    "pd.set_option('display.max_rows', 50)"
   ]
  },
  {
   "cell_type": "markdown",
   "metadata": {},
   "source": [
    "### Data Import"
   ]
  },
  {
   "cell_type": "code",
   "execution_count": 2,
   "metadata": {
    "ExecuteTime": {
     "end_time": "2020-05-28T04:02:37.350253Z",
     "start_time": "2020-05-28T04:02:37.152459Z"
    }
   },
   "outputs": [
    {
     "name": "stdout",
     "output_type": "stream",
     "text": [
      "(20157, 32) (140, 3)\n"
     ]
    },
    {
     "name": "stderr",
     "output_type": "stream",
     "text": [
      "/Library/Frameworks/Python.framework/Versions/3.6/lib/python3.6/site-packages/IPython/core/interactiveshell.py:2785: DtypeWarning: Columns (15,20) have mixed types. Specify dtype option on import or set low_memory=False.\n",
      "  interactivity=interactivity, compiler=compiler, result=result)\n"
     ]
    }
   ],
   "source": [
    "train = pd.read_csv(\"./data/train_20171226.csv\")\n",
    "test = pd.read_csv(\"./data/yancheng_testB_20180224.csv\")\n",
    "print(train.shape,test.shape)"
   ]
  },
  {
   "cell_type": "code",
   "execution_count": 3,
   "metadata": {
    "ExecuteTime": {
     "end_time": "2020-05-28T04:02:40.903150Z",
     "start_time": "2020-05-28T04:02:40.895945Z"
    }
   },
   "outputs": [
    {
     "data": {
      "text/plain": [
       "(20157, 32)"
      ]
     },
     "execution_count": 3,
     "metadata": {},
     "output_type": "execute_result"
    }
   ],
   "source": [
    "train.shape"
   ]
  },
  {
   "cell_type": "code",
   "execution_count": 4,
   "metadata": {
    "ExecuteTime": {
     "end_time": "2020-05-28T04:02:44.128862Z",
     "start_time": "2020-05-28T04:02:44.123820Z"
    }
   },
   "outputs": [
    {
     "data": {
      "text/plain": [
       "(140, 3)"
      ]
     },
     "execution_count": 4,
     "metadata": {},
     "output_type": "execute_result"
    }
   ],
   "source": [
    "test.shape"
   ]
  },
  {
   "cell_type": "code",
   "execution_count": 8,
   "metadata": {
    "ExecuteTime": {
     "end_time": "2020-05-28T04:03:09.661760Z",
     "start_time": "2020-05-28T04:03:09.633760Z"
    }
   },
   "outputs": [
    {
     "data": {
      "text/html": [
       "<div>\n",
       "<style scoped>\n",
       "    .dataframe tbody tr th:only-of-type {\n",
       "        vertical-align: middle;\n",
       "    }\n",
       "\n",
       "    .dataframe tbody tr th {\n",
       "        vertical-align: top;\n",
       "    }\n",
       "\n",
       "    .dataframe thead th {\n",
       "        text-align: right;\n",
       "    }\n",
       "</style>\n",
       "<table border=\"1\" class=\"dataframe\">\n",
       "  <thead>\n",
       "    <tr style=\"text-align: right;\">\n",
       "      <th></th>\n",
       "      <th>sale_date</th>\n",
       "      <th>class_id</th>\n",
       "      <th>sale_quantity</th>\n",
       "      <th>brand_id</th>\n",
       "      <th>compartment</th>\n",
       "      <th>type_id</th>\n",
       "      <th>level_id</th>\n",
       "      <th>department_id</th>\n",
       "      <th>TR</th>\n",
       "      <th>gearbox_type</th>\n",
       "      <th>...</th>\n",
       "      <th>engine_torque</th>\n",
       "      <th>car_length</th>\n",
       "      <th>car_width</th>\n",
       "      <th>car_height</th>\n",
       "      <th>total_quality</th>\n",
       "      <th>equipment_quality</th>\n",
       "      <th>rated_passenger</th>\n",
       "      <th>wheelbase</th>\n",
       "      <th>front_track</th>\n",
       "      <th>rear_track</th>\n",
       "    </tr>\n",
       "  </thead>\n",
       "  <tbody>\n",
       "    <tr>\n",
       "      <th>0</th>\n",
       "      <td>201609</td>\n",
       "      <td>289403</td>\n",
       "      <td>94</td>\n",
       "      <td>12</td>\n",
       "      <td>2</td>\n",
       "      <td>1</td>\n",
       "      <td>1</td>\n",
       "      <td>1</td>\n",
       "      <td>6</td>\n",
       "      <td>MT</td>\n",
       "      <td>...</td>\n",
       "      <td>170</td>\n",
       "      <td>4440</td>\n",
       "      <td>1833</td>\n",
       "      <td>1545</td>\n",
       "      <td>1695</td>\n",
       "      <td>1320</td>\n",
       "      <td>5</td>\n",
       "      <td>2700</td>\n",
       "      <td>1556</td>\n",
       "      <td>1562</td>\n",
       "    </tr>\n",
       "    <tr>\n",
       "      <th>1</th>\n",
       "      <td>201609</td>\n",
       "      <td>745137</td>\n",
       "      <td>435</td>\n",
       "      <td>637</td>\n",
       "      <td>3</td>\n",
       "      <td>2</td>\n",
       "      <td>1</td>\n",
       "      <td>2</td>\n",
       "      <td>6</td>\n",
       "      <td>DCT</td>\n",
       "      <td>...</td>\n",
       "      <td>159</td>\n",
       "      <td>4534</td>\n",
       "      <td>1823</td>\n",
       "      <td>1483</td>\n",
       "      <td>1711</td>\n",
       "      <td>1336</td>\n",
       "      <td>5</td>\n",
       "      <td>2648</td>\n",
       "      <td>1553</td>\n",
       "      <td>1544</td>\n",
       "    </tr>\n",
       "    <tr>\n",
       "      <th>2</th>\n",
       "      <td>201609</td>\n",
       "      <td>714860</td>\n",
       "      <td>180</td>\n",
       "      <td>831</td>\n",
       "      <td>3</td>\n",
       "      <td>2</td>\n",
       "      <td>2</td>\n",
       "      <td>3</td>\n",
       "      <td>6</td>\n",
       "      <td>AT</td>\n",
       "      <td>...</td>\n",
       "      <td>176</td>\n",
       "      <td>4720</td>\n",
       "      <td>1815</td>\n",
       "      <td>1465</td>\n",
       "      <td>1860</td>\n",
       "      <td>1459</td>\n",
       "      <td>5</td>\n",
       "      <td>2770</td>\n",
       "      <td>1579</td>\n",
       "      <td>1589</td>\n",
       "    </tr>\n",
       "    <tr>\n",
       "      <th>3</th>\n",
       "      <td>201609</td>\n",
       "      <td>175962</td>\n",
       "      <td>40</td>\n",
       "      <td>750</td>\n",
       "      <td>3</td>\n",
       "      <td>2</td>\n",
       "      <td>1</td>\n",
       "      <td>4</td>\n",
       "      <td>6</td>\n",
       "      <td>AT</td>\n",
       "      <td>...</td>\n",
       "      <td>155</td>\n",
       "      <td>4475</td>\n",
       "      <td>1706</td>\n",
       "      <td>1469</td>\n",
       "      <td>1625</td>\n",
       "      <td>1145</td>\n",
       "      <td>5</td>\n",
       "      <td>2603</td>\n",
       "      <td>1460</td>\n",
       "      <td>1500</td>\n",
       "    </tr>\n",
       "    <tr>\n",
       "      <th>4</th>\n",
       "      <td>201609</td>\n",
       "      <td>270690</td>\n",
       "      <td>19</td>\n",
       "      <td>98</td>\n",
       "      <td>2</td>\n",
       "      <td>3</td>\n",
       "      <td>3</td>\n",
       "      <td>1</td>\n",
       "      <td>5</td>\n",
       "      <td>MT</td>\n",
       "      <td>...</td>\n",
       "      <td>146.5</td>\n",
       "      <td>4415</td>\n",
       "      <td>1685</td>\n",
       "      <td>1850</td>\n",
       "      <td>1825</td>\n",
       "      <td>1236</td>\n",
       "      <td>5</td>\n",
       "      <td>2720</td>\n",
       "      <td>1420</td>\n",
       "      <td>1440</td>\n",
       "    </tr>\n",
       "  </tbody>\n",
       "</table>\n",
       "<p>5 rows × 32 columns</p>\n",
       "</div>"
      ],
      "text/plain": [
       "   sale_date  class_id  sale_quantity  brand_id  compartment  type_id  \\\n",
       "0     201609    289403             94        12            2        1   \n",
       "1     201609    745137            435       637            3        2   \n",
       "2     201609    714860            180       831            3        2   \n",
       "3     201609    175962             40       750            3        2   \n",
       "4     201609    270690             19        98            2        3   \n",
       "\n",
       "  level_id  department_id TR gearbox_type     ...      engine_torque  \\\n",
       "0        1              1  6           MT     ...                170   \n",
       "1        1              2  6          DCT     ...                159   \n",
       "2        2              3  6           AT     ...                176   \n",
       "3        1              4  6           AT     ...                155   \n",
       "4        3              1  5           MT     ...              146.5   \n",
       "\n",
       "  car_length car_width car_height  total_quality equipment_quality  \\\n",
       "0       4440      1833       1545           1695              1320   \n",
       "1       4534      1823       1483           1711              1336   \n",
       "2       4720      1815       1465           1860              1459   \n",
       "3       4475      1706       1469           1625              1145   \n",
       "4       4415      1685       1850           1825              1236   \n",
       "\n",
       "   rated_passenger  wheelbase  front_track  rear_track  \n",
       "0                5       2700         1556        1562  \n",
       "1                5       2648         1553        1544  \n",
       "2                5       2770         1579        1589  \n",
       "3                5       2603         1460        1500  \n",
       "4                5       2720         1420        1440  \n",
       "\n",
       "[5 rows x 32 columns]"
      ]
     },
     "execution_count": 8,
     "metadata": {},
     "output_type": "execute_result"
    }
   ],
   "source": [
    "train.head()"
   ]
  },
  {
   "cell_type": "code",
   "execution_count": 24,
   "metadata": {
    "ExecuteTime": {
     "end_time": "2020-05-28T04:18:48.446726Z",
     "start_time": "2020-05-28T04:18:48.442582Z"
    }
   },
   "outputs": [
    {
     "name": "stdout",
     "output_type": "stream",
     "text": [
      "['sale_date', 'class_id', 'sale_quantity', 'brand_id', 'compartment', 'type_id', 'level_id', 'department_id', 'TR', 'gearbox_type', 'displacement', 'if_charging', 'price_level', 'price', 'driven_type_id', 'fuel_type_id', 'newenergy_type_id', 'emission_standards_id', 'if_MPV_id', 'if_luxurious_id', 'power', 'cylinder_number', 'engine_torque', 'car_length', 'car_width', 'car_height', 'total_quality', 'equipment_quality', 'rated_passenger', 'wheelbase', 'front_track', 'rear_track', 'sale_month', 'sale_year']\n"
     ]
    }
   ],
   "source": [
    "print(list(train))"
   ]
  },
  {
   "cell_type": "code",
   "execution_count": 25,
   "metadata": {
    "ExecuteTime": {
     "end_time": "2020-05-28T04:18:53.360324Z",
     "start_time": "2020-05-28T04:18:53.338027Z"
    }
   },
   "outputs": [
    {
     "name": "stdout",
     "output_type": "stream",
     "text": [
      "sale_date                0\n",
      "class_id                 0\n",
      "sale_quantity            0\n",
      "brand_id                 0\n",
      "compartment              0\n",
      "type_id                  0\n",
      "level_id                 0\n",
      "department_id            0\n",
      "TR                       0\n",
      "gearbox_type             0\n",
      "displacement             0\n",
      "if_charging              0\n",
      "price_level              0\n",
      "price                    0\n",
      "driven_type_id           0\n",
      "fuel_type_id             0\n",
      "newenergy_type_id        0\n",
      "emission_standards_id    0\n",
      "if_MPV_id                0\n",
      "if_luxurious_id          0\n",
      "power                    0\n",
      "cylinder_number          0\n",
      "engine_torque            0\n",
      "car_length               0\n",
      "car_width                0\n",
      "car_height               0\n",
      "total_quality            0\n",
      "equipment_quality        0\n",
      "rated_passenger          0\n",
      "wheelbase                0\n",
      "front_track              0\n",
      "rear_track               0\n",
      "sale_month               0\n",
      "sale_year                0\n",
      "dtype: int64\n"
     ]
    }
   ],
   "source": [
    "print(train.isna().sum())"
   ]
  },
  {
   "cell_type": "code",
   "execution_count": 26,
   "metadata": {
    "ExecuteTime": {
     "end_time": "2020-05-28T04:19:00.239755Z",
     "start_time": "2020-05-28T04:19:00.235190Z"
    },
    "scrolled": false
   },
   "outputs": [
    {
     "name": "stdout",
     "output_type": "stream",
     "text": [
      "sale_date                  int64\n",
      "class_id                   int64\n",
      "sale_quantity              int64\n",
      "brand_id                   int64\n",
      "compartment                int64\n",
      "type_id                    int64\n",
      "level_id                  object\n",
      "department_id              int64\n",
      "TR                        object\n",
      "gearbox_type              object\n",
      "displacement             float64\n",
      "if_charging               object\n",
      "price_level               object\n",
      "price                     object\n",
      "driven_type_id             int64\n",
      "fuel_type_id              object\n",
      "newenergy_type_id          int64\n",
      "emission_standards_id      int64\n",
      "if_MPV_id                  int64\n",
      "if_luxurious_id            int64\n",
      "power                     object\n",
      "cylinder_number            int64\n",
      "engine_torque             object\n",
      "car_length                 int64\n",
      "car_width                  int64\n",
      "car_height                 int64\n",
      "total_quality              int64\n",
      "equipment_quality          int64\n",
      "rated_passenger           object\n",
      "wheelbase                  int64\n",
      "front_track                int64\n",
      "rear_track                 int64\n",
      "sale_month                 int64\n",
      "sale_year                  int64\n",
      "dtype: object\n"
     ]
    }
   ],
   "source": [
    "print(train.dtypes)"
   ]
  },
  {
   "cell_type": "code",
   "execution_count": 36,
   "metadata": {
    "ExecuteTime": {
     "end_time": "2020-05-28T04:37:45.171855Z",
     "start_time": "2020-05-28T04:37:45.148235Z"
    }
   },
   "outputs": [],
   "source": [
    "train = train.sort_values(by=['sale_date','class_id']).reset_index(drop=True)"
   ]
  },
  {
   "cell_type": "code",
   "execution_count": 40,
   "metadata": {
    "ExecuteTime": {
     "end_time": "2020-05-28T04:38:43.505510Z",
     "start_time": "2020-05-28T04:38:43.480829Z"
    }
   },
   "outputs": [
    {
     "data": {
      "text/html": [
       "<div>\n",
       "<style scoped>\n",
       "    .dataframe tbody tr th:only-of-type {\n",
       "        vertical-align: middle;\n",
       "    }\n",
       "\n",
       "    .dataframe tbody tr th {\n",
       "        vertical-align: top;\n",
       "    }\n",
       "\n",
       "    .dataframe thead th {\n",
       "        text-align: right;\n",
       "    }\n",
       "</style>\n",
       "<table border=\"1\" class=\"dataframe\">\n",
       "  <thead>\n",
       "    <tr style=\"text-align: right;\">\n",
       "      <th></th>\n",
       "      <th>sale_date</th>\n",
       "      <th>class_id</th>\n",
       "      <th>sale_quantity</th>\n",
       "      <th>brand_id</th>\n",
       "      <th>compartment</th>\n",
       "      <th>type_id</th>\n",
       "      <th>level_id</th>\n",
       "      <th>department_id</th>\n",
       "      <th>TR</th>\n",
       "      <th>gearbox_type</th>\n",
       "      <th>displacement</th>\n",
       "      <th>if_charging</th>\n",
       "      <th>price_level</th>\n",
       "      <th>price</th>\n",
       "      <th>driven_type_id</th>\n",
       "      <th>fuel_type_id</th>\n",
       "      <th>newenergy_type_id</th>\n",
       "      <th>emission_standards_id</th>\n",
       "      <th>if_MPV_id</th>\n",
       "      <th>if_luxurious_id</th>\n",
       "      <th>power</th>\n",
       "      <th>cylinder_number</th>\n",
       "      <th>engine_torque</th>\n",
       "      <th>car_length</th>\n",
       "      <th>car_width</th>\n",
       "      <th>car_height</th>\n",
       "      <th>total_quality</th>\n",
       "      <th>equipment_quality</th>\n",
       "      <th>rated_passenger</th>\n",
       "      <th>wheelbase</th>\n",
       "      <th>front_track</th>\n",
       "      <th>rear_track</th>\n",
       "      <th>sale_month</th>\n",
       "      <th>sale_year</th>\n",
       "    </tr>\n",
       "  </thead>\n",
       "  <tbody>\n",
       "    <tr>\n",
       "      <th>0</th>\n",
       "      <td>201201</td>\n",
       "      <td>125403</td>\n",
       "      <td>49</td>\n",
       "      <td>761</td>\n",
       "      <td>2</td>\n",
       "      <td>3</td>\n",
       "      <td>2</td>\n",
       "      <td>2</td>\n",
       "      <td>6</td>\n",
       "      <td>AT</td>\n",
       "      <td>2.4</td>\n",
       "      <td>L</td>\n",
       "      <td>35-50W</td>\n",
       "      <td>-</td>\n",
       "      <td>1</td>\n",
       "      <td>1</td>\n",
       "      <td>1</td>\n",
       "      <td>3</td>\n",
       "      <td>2</td>\n",
       "      <td>1</td>\n",
       "      <td>123</td>\n",
       "      <td>4</td>\n",
       "      <td>225</td>\n",
       "      <td>5256</td>\n",
       "      <td>1878</td>\n",
       "      <td>1772</td>\n",
       "      <td>2470</td>\n",
       "      <td>1840</td>\n",
       "      <td>7</td>\n",
       "      <td>3088</td>\n",
       "      <td>1593</td>\n",
       "      <td>1601</td>\n",
       "      <td>1</td>\n",
       "      <td>12</td>\n",
       "    </tr>\n",
       "    <tr>\n",
       "      <th>1</th>\n",
       "      <td>201201</td>\n",
       "      <td>125403</td>\n",
       "      <td>16</td>\n",
       "      <td>761</td>\n",
       "      <td>2</td>\n",
       "      <td>3</td>\n",
       "      <td>2</td>\n",
       "      <td>2</td>\n",
       "      <td>6</td>\n",
       "      <td>AT</td>\n",
       "      <td>2.4</td>\n",
       "      <td>L</td>\n",
       "      <td>35-50W</td>\n",
       "      <td>-</td>\n",
       "      <td>1</td>\n",
       "      <td>1</td>\n",
       "      <td>1</td>\n",
       "      <td>3</td>\n",
       "      <td>2</td>\n",
       "      <td>1</td>\n",
       "      <td>123</td>\n",
       "      <td>4</td>\n",
       "      <td>225</td>\n",
       "      <td>5213</td>\n",
       "      <td>1847</td>\n",
       "      <td>1750</td>\n",
       "      <td>2380</td>\n",
       "      <td>1840</td>\n",
       "      <td>7</td>\n",
       "      <td>3088</td>\n",
       "      <td>1593</td>\n",
       "      <td>1601</td>\n",
       "      <td>1</td>\n",
       "      <td>12</td>\n",
       "    </tr>\n",
       "  </tbody>\n",
       "</table>\n",
       "</div>"
      ],
      "text/plain": [
       "   sale_date  class_id  sale_quantity  brand_id  compartment  type_id  \\\n",
       "0     201201    125403             49       761            2        3   \n",
       "1     201201    125403             16       761            2        3   \n",
       "\n",
       "  level_id  department_id TR gearbox_type  displacement if_charging  \\\n",
       "0        2              2  6           AT           2.4           L   \n",
       "1        2              2  6           AT           2.4           L   \n",
       "\n",
       "  price_level price  driven_type_id fuel_type_id  newenergy_type_id  \\\n",
       "0      35-50W     -               1            1                  1   \n",
       "1      35-50W     -               1            1                  1   \n",
       "\n",
       "   emission_standards_id  if_MPV_id  if_luxurious_id power  cylinder_number  \\\n",
       "0                      3          2                1   123                4   \n",
       "1                      3          2                1   123                4   \n",
       "\n",
       "  engine_torque  car_length  car_width  car_height  total_quality  \\\n",
       "0           225        5256       1878        1772           2470   \n",
       "1           225        5213       1847        1750           2380   \n",
       "\n",
       "   equipment_quality rated_passenger  wheelbase  front_track  rear_track  \\\n",
       "0               1840               7       3088         1593        1601   \n",
       "1               1840               7       3088         1593        1601   \n",
       "\n",
       "   sale_month  sale_year  \n",
       "0           1         12  \n",
       "1           1         12  "
      ]
     },
     "execution_count": 40,
     "metadata": {},
     "output_type": "execute_result"
    }
   ],
   "source": [
    "train[:2]"
   ]
  },
  {
   "cell_type": "code",
   "execution_count": null,
   "metadata": {},
   "outputs": [],
   "source": []
  },
  {
   "cell_type": "markdown",
   "metadata": {},
   "source": [
    "### Data Exploration"
   ]
  },
  {
   "cell_type": "code",
   "execution_count": 22,
   "metadata": {
    "ExecuteTime": {
     "end_time": "2020-05-28T04:17:43.075193Z",
     "start_time": "2020-05-28T04:17:42.675495Z"
    }
   },
   "outputs": [],
   "source": [
    "train['sale_month'] = train['sale_date']%100\n",
    "train['sale_year'] = train['sale_date']//100%100\n",
    "test['sale_month'] = test['predict_date']%100\n",
    "test['sale_year'] = test['predict_date']//100%100"
   ]
  },
  {
   "cell_type": "code",
   "execution_count": 46,
   "metadata": {
    "ExecuteTime": {
     "end_time": "2020-05-28T05:19:06.276158Z",
     "start_time": "2020-05-28T05:14:47.143356Z"
    }
   },
   "outputs": [
    {
     "name": "stderr",
     "output_type": "stream",
     "text": [
      "/Library/Frameworks/Python.framework/Versions/3.6/lib/python3.6/site-packages/ipykernel_launcher.py:12: SettingWithCopyWarning: \n",
      "A value is trying to be set on a copy of a slice from a DataFrame.\n",
      "Try using .loc[row_indexer,col_indexer] = value instead\n",
      "\n",
      "See the caveats in the documentation: http://pandas.pydata.org/pandas-docs/stable/indexing.html#indexing-view-versus-copy\n",
      "  if sys.path[0] == '':\n"
     ]
    }
   ],
   "source": [
    "# only include the maximum sale quantity rows for each class_id & month, and put the total sales in there\n",
    "# so the dataframe merge_train have unique class_id * month rows\n",
    "merge_train = pd.DataFrame()\n",
    "all_class_id = train['class_id'].unique().tolist()\n",
    "\n",
    "for class_id in all_class_id:\n",
    "    all_month = train.loc[train['class_id']== class_id, 'sale_date'].unique().tolist()\n",
    "    for month in all_month:\n",
    "        max_val  = train.loc[(train['class_id']==class_id) & (train['sale_date']==month), 'sale_quantity'].max()\n",
    "        sale_sum = train.loc[(train['class_id']==class_id) & (train['sale_date']==month), 'sale_quantity'].sum()\n",
    "        feat_val = train.loc[(train['class_id']==class_id) & (train['sale_date']==month) & (train['sale_quantity']==max_val), :]\n",
    "        feat_val['sale_quantity'] = sale_sum\n",
    "        merge_train = pd.concat([merge_train, feat_val[0:1]])\n",
    "        \n",
    "merge_train = merge_train.sort_values(by=['sale_date'], ascending=True)"
   ]
  },
  {
   "cell_type": "code",
   "execution_count": 47,
   "metadata": {
    "ExecuteTime": {
     "end_time": "2020-05-28T05:19:06.471738Z",
     "start_time": "2020-05-28T05:19:06.467485Z"
    }
   },
   "outputs": [
    {
     "data": {
      "text/plain": [
       "(5587, 34)"
      ]
     },
     "execution_count": 47,
     "metadata": {},
     "output_type": "execute_result"
    }
   ],
   "source": [
    "merge_train.shape"
   ]
  },
  {
   "cell_type": "code",
   "execution_count": 48,
   "metadata": {
    "ExecuteTime": {
     "end_time": "2020-05-28T05:19:06.744462Z",
     "start_time": "2020-05-28T05:19:06.692453Z"
    }
   },
   "outputs": [
    {
     "name": "stderr",
     "output_type": "stream",
     "text": [
      "/Library/Frameworks/Python.framework/Versions/3.6/lib/python3.6/site-packages/pandas/core/indexing.py:1472: FutureWarning: \n",
      "Passing list-likes to .loc or [] with any missing label will raise\n",
      "KeyError in the future, you can use .reindex() as an alternative.\n",
      "\n",
      "See the documentation here:\n",
      "https://pandas.pydata.org/pandas-docs/stable/indexing.html#deprecate-loc-reindex-listlike\n",
      "  return self._getitem_tuple(key)\n"
     ]
    }
   ],
   "source": [
    "merge_train = merge_train[['sale_date', 'class_id', 'sale_quantity', 'sale_month', 'sale_year']]\n",
    "cols = ['sale_date', 'class_id', 'sale_quantity', 'sale_month', 'sale_year']\n",
    "############### Remove Nov ##################\n",
    "merge_train = merge_train.loc[merge_train['sale_month']!=11, :]\n",
    "test = test.loc[:, cols]\n",
    "test['sale_date'] = test['sale_date'].fillna(201712)\n",
    "test['sale_date'] = test['sale_date'].astype(int)"
   ]
  },
  {
   "cell_type": "code",
   "execution_count": 51,
   "metadata": {
    "ExecuteTime": {
     "end_time": "2020-05-28T05:35:21.193541Z",
     "start_time": "2020-05-28T05:35:21.122011Z"
    }
   },
   "outputs": [],
   "source": [
    "# looking for class_id that has less than 14 training months\n",
    "months_data_per_class = merge_train[['class_id','sale_quantity']].groupby(['class_id']).count().reset_index()"
   ]
  },
  {
   "cell_type": "code",
   "execution_count": 58,
   "metadata": {
    "ExecuteTime": {
     "end_time": "2020-05-28T05:36:50.253429Z",
     "start_time": "2020-05-28T05:36:50.248892Z"
    }
   },
   "outputs": [
    {
     "name": "stdout",
     "output_type": "stream",
     "text": [
      "Number of classes with less than 14 months records : 34\n"
     ]
    }
   ],
   "source": [
    "print('Number of classes with less than 14 months records :', \n",
    "      months_data_per_class.loc[months_data_per_class['sale_quantity'] < 14, 'class_id'].shape[0])"
   ]
  },
  {
   "cell_type": "code",
   "execution_count": 50,
   "metadata": {
    "ExecuteTime": {
     "end_time": "2020-05-28T05:19:07.096581Z",
     "start_time": "2020-05-28T05:19:07.022695Z"
    }
   },
   "outputs": [
    {
     "name": "stdout",
     "output_type": "stream",
     "text": [
      "(5195, 5) (140, 5)\n"
     ]
    }
   ],
   "source": [
    "print(merge_train.shape, test.shape)\n",
    "class_12 = count[count['sale_quantity']<14]\n",
    "class_12 = class_12.index.tolist()\n",
    "all_data = pd.concat((merge_train, test)).reset_index(drop=True)\n",
    "for idx in class_12:\n",
    "    li = []\n",
    "    li = all_data[all_data['class_id']==idx].index.tolist()\n",
    "    all_data.drop(all_data.index[li],inplace=True)\n",
    "    all_data = all_data.reset_index(drop=True)"
   ]
  },
  {
   "cell_type": "code",
   "execution_count": null,
   "metadata": {},
   "outputs": [],
   "source": []
  }
 ],
 "metadata": {
  "kernelspec": {
   "display_name": "Python 3",
   "language": "python",
   "name": "python3"
  },
  "language_info": {
   "codemirror_mode": {
    "name": "ipython",
    "version": 3
   },
   "file_extension": ".py",
   "mimetype": "text/x-python",
   "name": "python",
   "nbconvert_exporter": "python",
   "pygments_lexer": "ipython3",
   "version": "3.6.6"
  },
  "toc": {
   "base_numbering": 1,
   "nav_menu": {},
   "number_sections": true,
   "sideBar": true,
   "skip_h1_title": false,
   "title_cell": "Table of Contents",
   "title_sidebar": "Contents",
   "toc_cell": false,
   "toc_position": {},
   "toc_section_display": true,
   "toc_window_display": false
  },
  "varInspector": {
   "cols": {
    "lenName": 16,
    "lenType": 16,
    "lenVar": 40
   },
   "kernels_config": {
    "python": {
     "delete_cmd_postfix": "",
     "delete_cmd_prefix": "del ",
     "library": "var_list.py",
     "varRefreshCmd": "print(var_dic_list())"
    },
    "r": {
     "delete_cmd_postfix": ") ",
     "delete_cmd_prefix": "rm(",
     "library": "var_list.r",
     "varRefreshCmd": "cat(var_dic_list()) "
    }
   },
   "types_to_exclude": [
    "module",
    "function",
    "builtin_function_or_method",
    "instance",
    "_Feature"
   ],
   "window_display": false
  }
 },
 "nbformat": 4,
 "nbformat_minor": 2
}
